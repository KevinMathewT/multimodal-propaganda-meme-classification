{
 "cells": [
  {
   "cell_type": "code",
   "execution_count": 6,
   "metadata": {},
   "outputs": [],
   "source": [
    "import json\n",
    "import pandas as pd \n",
    "from tqdm import tqdm"
   ]
  },
  {
   "cell_type": "code",
   "execution_count": 8,
   "metadata": {},
   "outputs": [
    {
     "name": "stderr",
     "output_type": "stream",
     "text": [
      "100%|██████████| 312/312 [00:00<00:00, 889010.09it/s]\n"
     ]
    }
   ],
   "source": [
    "def read_data(fpath, is_test=False):\n",
    "  if is_test:\n",
    "    data = {'id': [], 'text': [], 'image': []}\n",
    "    js_obj = json.load(open(fpath, encoding='utf-8'))\n",
    "    for obj in tqdm(js_obj):\n",
    "      data['id'].append(obj['id'])\n",
    "      data['image'].append(obj['img_path'])\n",
    "      data['text'].append(obj['text'])\n",
    "  else:\n",
    "    data = {'id': [], 'text': [], 'image': [], 'label': []}\n",
    "    js_obj = json.load(open(fpath, encoding='utf-8'))\n",
    "    for obj in tqdm(js_obj):\n",
    "      data['id'].append(obj['id'])\n",
    "      data['image'].append(obj['img_path'])\n",
    "      data['text'].append(obj['text'])\n",
    "      data['label'].append(obj['class_label'])\n",
    "  return pd.DataFrame.from_dict(data)\n",
    "\n",
    "labels = read_data(\"../data/arabic_memes_propaganda_araieval_24_dev.json\")\n",
    "preds = pd.read_csv(\"task2C_kevinmathew 2.tsv\", sep='\\t')"
   ]
  },
  {
   "cell_type": "code",
   "execution_count": 9,
   "metadata": {},
   "outputs": [
    {
     "data": {
      "text/html": [
       "<div>\n",
       "<style scoped>\n",
       "    .dataframe tbody tr th:only-of-type {\n",
       "        vertical-align: middle;\n",
       "    }\n",
       "\n",
       "    .dataframe tbody tr th {\n",
       "        vertical-align: top;\n",
       "    }\n",
       "\n",
       "    .dataframe thead th {\n",
       "        text-align: right;\n",
       "    }\n",
       "</style>\n",
       "<table border=\"1\" class=\"dataframe\">\n",
       "  <thead>\n",
       "    <tr style=\"text-align: right;\">\n",
       "      <th></th>\n",
       "      <th>id</th>\n",
       "      <th>text</th>\n",
       "      <th>image</th>\n",
       "      <th>label</th>\n",
       "    </tr>\n",
       "  </thead>\n",
       "  <tbody>\n",
       "    <tr>\n",
       "      <th>0</th>\n",
       "      <td>data/arabic_memes_fb_insta_pinterest/Instagram...</td>\n",
       "      <td>- انا من حقي اقول اني مبحبش الشتا \\n= وانا من ...</td>\n",
       "      <td>data/arabic_memes_fb_insta_pinterest/Instagram...</td>\n",
       "      <td>not_propaganda</td>\n",
       "    </tr>\n",
       "    <tr>\n",
       "      <th>1</th>\n",
       "      <td>data/arabic_memes_fb_insta_pinterest/Pinterest...</td>\n",
       "      <td>أنا مش هضعف تاني قصادك أنا مش هرجع ابص ورايا.....</td>\n",
       "      <td>data/arabic_memes_fb_insta_pinterest/Pinterest...</td>\n",
       "      <td>not_propaganda</td>\n",
       "    </tr>\n",
       "    <tr>\n",
       "      <th>2</th>\n",
       "      <td>data/arabic_memes_fb_insta_pinterest/Instagram...</td>\n",
       "      <td>-لما الكراش يتجاهلني\\n=..\\nMe\\nده باين عليه بي...</td>\n",
       "      <td>data/arabic_memes_fb_insta_pinterest/Instagram...</td>\n",
       "      <td>not_propaganda</td>\n",
       "    </tr>\n",
       "    <tr>\n",
       "      <th>3</th>\n",
       "      <td>data/arabic_memes_fb_insta_pinterest/Pinterest...</td>\n",
       "      <td>الطفل لما يخلوه مع\\nمع الأب\\nمع الأم\\nمع الأخت...</td>\n",
       "      <td>data/arabic_memes_fb_insta_pinterest/Pinterest...</td>\n",
       "      <td>not_propaganda</td>\n",
       "    </tr>\n",
       "    <tr>\n",
       "      <th>4</th>\n",
       "      <td>data/arabic_memes_fb_insta_pinterest/Instagram...</td>\n",
       "      <td>هي بقي نونوت معايا اقولك كل واحد فينا يروح لحا...</td>\n",
       "      <td>data/arabic_memes_fb_insta_pinterest/Instagram...</td>\n",
       "      <td>not_propaganda</td>\n",
       "    </tr>\n",
       "    <tr>\n",
       "      <th>...</th>\n",
       "      <td>...</td>\n",
       "      <td>...</td>\n",
       "      <td>...</td>\n",
       "      <td>...</td>\n",
       "    </tr>\n",
       "    <tr>\n",
       "      <th>307</th>\n",
       "      <td>data/fb_memes/ArabianMemez/272646015_128128777...</td>\n",
       "      <td>نضال الفيمنست وهي فاتحة نت \\nفاتحة نت من اخترا...</td>\n",
       "      <td>data/fb_memes/ArabianMemez/272646015_128128777...</td>\n",
       "      <td>propaganda</td>\n",
       "    </tr>\n",
       "    <tr>\n",
       "      <th>308</th>\n",
       "      <td>data/arabic_memes_fb_insta_pinterest/Instagram...</td>\n",
       "      <td>أبو أحمد اتبهدل معانا أوي يجما عه\\nتب9نحمد\\nأن...</td>\n",
       "      <td>data/arabic_memes_fb_insta_pinterest/Instagram...</td>\n",
       "      <td>not_propaganda</td>\n",
       "    </tr>\n",
       "    <tr>\n",
       "      <th>309</th>\n",
       "      <td>data/arabic_memes_fb_insta_pinterest/Pinterest...</td>\n",
       "      <td>ابوك وامك بعد ما ربوك على ان مفيش راجل بيعيط و...</td>\n",
       "      <td>data/arabic_memes_fb_insta_pinterest/Pinterest...</td>\n",
       "      <td>not_propaganda</td>\n",
       "    </tr>\n",
       "    <tr>\n",
       "      <th>310</th>\n",
       "      <td>data/arabic_memes_fb_insta_pinterest/Instagram...</td>\n",
       "      <td>لما اعطس ف الحمام واقول الحمد لله * * وافتكر ا...</td>\n",
       "      <td>data/arabic_memes_fb_insta_pinterest/Instagram...</td>\n",
       "      <td>not_propaganda</td>\n",
       "    </tr>\n",
       "    <tr>\n",
       "      <th>311</th>\n",
       "      <td>data/arabic_memes_fb_insta_pinterest/Pinterest...</td>\n",
       "      <td>لما تعزمها ب ٧٠٠ جنيه وتقولك الحاجات البسيطة د...</td>\n",
       "      <td>data/arabic_memes_fb_insta_pinterest/Pinterest...</td>\n",
       "      <td>not_propaganda</td>\n",
       "    </tr>\n",
       "  </tbody>\n",
       "</table>\n",
       "<p>312 rows × 4 columns</p>\n",
       "</div>"
      ],
      "text/plain": [
       "                                                    id  \\\n",
       "0    data/arabic_memes_fb_insta_pinterest/Instagram...   \n",
       "1    data/arabic_memes_fb_insta_pinterest/Pinterest...   \n",
       "2    data/arabic_memes_fb_insta_pinterest/Instagram...   \n",
       "3    data/arabic_memes_fb_insta_pinterest/Pinterest...   \n",
       "4    data/arabic_memes_fb_insta_pinterest/Instagram...   \n",
       "..                                                 ...   \n",
       "307  data/fb_memes/ArabianMemez/272646015_128128777...   \n",
       "308  data/arabic_memes_fb_insta_pinterest/Instagram...   \n",
       "309  data/arabic_memes_fb_insta_pinterest/Pinterest...   \n",
       "310  data/arabic_memes_fb_insta_pinterest/Instagram...   \n",
       "311  data/arabic_memes_fb_insta_pinterest/Pinterest...   \n",
       "\n",
       "                                                  text  \\\n",
       "0    - انا من حقي اقول اني مبحبش الشتا \\n= وانا من ...   \n",
       "1    أنا مش هضعف تاني قصادك أنا مش هرجع ابص ورايا.....   \n",
       "2    -لما الكراش يتجاهلني\\n=..\\nMe\\nده باين عليه بي...   \n",
       "3    الطفل لما يخلوه مع\\nمع الأب\\nمع الأم\\nمع الأخت...   \n",
       "4    هي بقي نونوت معايا اقولك كل واحد فينا يروح لحا...   \n",
       "..                                                 ...   \n",
       "307  نضال الفيمنست وهي فاتحة نت \\nفاتحة نت من اخترا...   \n",
       "308  أبو أحمد اتبهدل معانا أوي يجما عه\\nتب9نحمد\\nأن...   \n",
       "309  ابوك وامك بعد ما ربوك على ان مفيش راجل بيعيط و...   \n",
       "310  لما اعطس ف الحمام واقول الحمد لله * * وافتكر ا...   \n",
       "311  لما تعزمها ب ٧٠٠ جنيه وتقولك الحاجات البسيطة د...   \n",
       "\n",
       "                                                 image           label  \n",
       "0    data/arabic_memes_fb_insta_pinterest/Instagram...  not_propaganda  \n",
       "1    data/arabic_memes_fb_insta_pinterest/Pinterest...  not_propaganda  \n",
       "2    data/arabic_memes_fb_insta_pinterest/Instagram...  not_propaganda  \n",
       "3    data/arabic_memes_fb_insta_pinterest/Pinterest...  not_propaganda  \n",
       "4    data/arabic_memes_fb_insta_pinterest/Instagram...  not_propaganda  \n",
       "..                                                 ...             ...  \n",
       "307  data/fb_memes/ArabianMemez/272646015_128128777...      propaganda  \n",
       "308  data/arabic_memes_fb_insta_pinterest/Instagram...  not_propaganda  \n",
       "309  data/arabic_memes_fb_insta_pinterest/Pinterest...  not_propaganda  \n",
       "310  data/arabic_memes_fb_insta_pinterest/Instagram...  not_propaganda  \n",
       "311  data/arabic_memes_fb_insta_pinterest/Pinterest...  not_propaganda  \n",
       "\n",
       "[312 rows x 4 columns]"
      ]
     },
     "execution_count": 9,
     "metadata": {},
     "output_type": "execute_result"
    }
   ],
   "source": [
    "labels"
   ]
  },
  {
   "cell_type": "code",
   "execution_count": 10,
   "metadata": {},
   "outputs": [
    {
     "data": {
      "text/html": [
       "<div>\n",
       "<style scoped>\n",
       "    .dataframe tbody tr th:only-of-type {\n",
       "        vertical-align: middle;\n",
       "    }\n",
       "\n",
       "    .dataframe tbody tr th {\n",
       "        vertical-align: top;\n",
       "    }\n",
       "\n",
       "    .dataframe thead th {\n",
       "        text-align: right;\n",
       "    }\n",
       "</style>\n",
       "<table border=\"1\" class=\"dataframe\">\n",
       "  <thead>\n",
       "    <tr style=\"text-align: right;\">\n",
       "      <th></th>\n",
       "      <th>id</th>\n",
       "      <th>label</th>\n",
       "      <th>run_id</th>\n",
       "    </tr>\n",
       "  </thead>\n",
       "  <tbody>\n",
       "    <tr>\n",
       "      <th>0</th>\n",
       "      <td>data/arabic_memes_fb_insta_pinterest/Instagram...</td>\n",
       "      <td>not_propaganda</td>\n",
       "      <td>DistilBERT+ResNet</td>\n",
       "    </tr>\n",
       "    <tr>\n",
       "      <th>1</th>\n",
       "      <td>data/arabic_memes_fb_insta_pinterest/Instagram...</td>\n",
       "      <td>not_propaganda</td>\n",
       "      <td>DistilBERT+ResNet</td>\n",
       "    </tr>\n",
       "    <tr>\n",
       "      <th>2</th>\n",
       "      <td>data/arabic_memes_fb_insta_pinterest/Instagram...</td>\n",
       "      <td>not_propaganda</td>\n",
       "      <td>DistilBERT+ResNet</td>\n",
       "    </tr>\n",
       "    <tr>\n",
       "      <th>3</th>\n",
       "      <td>data/arabic_memes_fb_insta_pinterest/Pinterest...</td>\n",
       "      <td>not_propaganda</td>\n",
       "      <td>DistilBERT+ResNet</td>\n",
       "    </tr>\n",
       "    <tr>\n",
       "      <th>4</th>\n",
       "      <td>data/arabic_memes_fb_insta_pinterest/Instagram...</td>\n",
       "      <td>not_propaganda</td>\n",
       "      <td>DistilBERT+ResNet</td>\n",
       "    </tr>\n",
       "    <tr>\n",
       "      <th>...</th>\n",
       "      <td>...</td>\n",
       "      <td>...</td>\n",
       "      <td>...</td>\n",
       "    </tr>\n",
       "    <tr>\n",
       "      <th>307</th>\n",
       "      <td>data/arabic_memes_fb_insta_pinterest/Pinterest...</td>\n",
       "      <td>not_propaganda</td>\n",
       "      <td>DistilBERT+ResNet</td>\n",
       "    </tr>\n",
       "    <tr>\n",
       "      <th>308</th>\n",
       "      <td>data/arabic_memes_fb_insta_pinterest/Instagram...</td>\n",
       "      <td>not_propaganda</td>\n",
       "      <td>DistilBERT+ResNet</td>\n",
       "    </tr>\n",
       "    <tr>\n",
       "      <th>309</th>\n",
       "      <td>data/arabic_memes_fb_insta_pinterest/Pinterest...</td>\n",
       "      <td>not_propaganda</td>\n",
       "      <td>DistilBERT+ResNet</td>\n",
       "    </tr>\n",
       "    <tr>\n",
       "      <th>310</th>\n",
       "      <td>data/arabic_memes_fb_insta_pinterest/Instagram...</td>\n",
       "      <td>not_propaganda</td>\n",
       "      <td>DistilBERT+ResNet</td>\n",
       "    </tr>\n",
       "    <tr>\n",
       "      <th>311</th>\n",
       "      <td>data/arabic_memes_fb_insta_pinterest/Pinterest...</td>\n",
       "      <td>not_propaganda</td>\n",
       "      <td>DistilBERT+ResNet</td>\n",
       "    </tr>\n",
       "  </tbody>\n",
       "</table>\n",
       "<p>312 rows × 3 columns</p>\n",
       "</div>"
      ],
      "text/plain": [
       "                                                    id           label  \\\n",
       "0    data/arabic_memes_fb_insta_pinterest/Instagram...  not_propaganda   \n",
       "1    data/arabic_memes_fb_insta_pinterest/Instagram...  not_propaganda   \n",
       "2    data/arabic_memes_fb_insta_pinterest/Instagram...  not_propaganda   \n",
       "3    data/arabic_memes_fb_insta_pinterest/Pinterest...  not_propaganda   \n",
       "4    data/arabic_memes_fb_insta_pinterest/Instagram...  not_propaganda   \n",
       "..                                                 ...             ...   \n",
       "307  data/arabic_memes_fb_insta_pinterest/Pinterest...  not_propaganda   \n",
       "308  data/arabic_memes_fb_insta_pinterest/Instagram...  not_propaganda   \n",
       "309  data/arabic_memes_fb_insta_pinterest/Pinterest...  not_propaganda   \n",
       "310  data/arabic_memes_fb_insta_pinterest/Instagram...  not_propaganda   \n",
       "311  data/arabic_memes_fb_insta_pinterest/Pinterest...  not_propaganda   \n",
       "\n",
       "                run_id  \n",
       "0    DistilBERT+ResNet  \n",
       "1    DistilBERT+ResNet  \n",
       "2    DistilBERT+ResNet  \n",
       "3    DistilBERT+ResNet  \n",
       "4    DistilBERT+ResNet  \n",
       "..                 ...  \n",
       "307  DistilBERT+ResNet  \n",
       "308  DistilBERT+ResNet  \n",
       "309  DistilBERT+ResNet  \n",
       "310  DistilBERT+ResNet  \n",
       "311  DistilBERT+ResNet  \n",
       "\n",
       "[312 rows x 3 columns]"
      ]
     },
     "execution_count": 10,
     "metadata": {},
     "output_type": "execute_result"
    }
   ],
   "source": [
    "preds"
   ]
  },
  {
   "cell_type": "code",
   "execution_count": 11,
   "metadata": {},
   "outputs": [
    {
     "name": "stdout",
     "output_type": "stream",
     "text": [
      "Most common words in misclassified instances:\n",
      "[('من', 13), ('على', 9), ('في', 9), ('لا', 9), ('يا', 8), ('لما', 7), ('مش', 7), ('ولا', 7), ('-', 6), ('؟', 6)]\n"
     ]
    }
   ],
   "source": [
    "import pandas as pd\n",
    "\n",
    "def analyze_misclassifications(labels_df, preds_df):\n",
    "    # Merge the labels and predictions dataframes on the 'id' column\n",
    "    merged_df = pd.merge(labels_df, preds_df, on='id')\n",
    "    \n",
    "    # Create a new column 'correct' to indicate if the prediction matches the actual label\n",
    "    merged_df['correct'] = merged_df['label_x'] == merged_df['label_y']\n",
    "    \n",
    "    # Filter the dataframe to include only the misclassified instances\n",
    "    misclassified_df = merged_df[~merged_df['correct']]\n",
    "    \n",
    "    # Analyze the patterns in the misclassified text\n",
    "    misclassified_texts = misclassified_df['text'].tolist()\n",
    "    \n",
    "    # Perform text analysis on the misclassified instances\n",
    "    # You can use various techniques such as:\n",
    "    # - Tokenization and word frequency analysis\n",
    "    # - Sentiment analysis\n",
    "    # - Named entity recognition\n",
    "    # - Topic modeling\n",
    "    # - Linguistic patterns and features\n",
    "    \n",
    "    # Example: Word frequency analysis\n",
    "    from collections import Counter\n",
    "    \n",
    "    # Tokenize the misclassified texts\n",
    "    words = [word.lower() for text in misclassified_texts for word in text.split()]\n",
    "    \n",
    "    # Count the frequency of each word\n",
    "    word_freq = Counter(words)\n",
    "    \n",
    "    # Print the most common words\n",
    "    print(\"Most common words in misclassified instances:\")\n",
    "    print(word_freq.most_common(10))\n",
    "    \n",
    "    # You can perform further analysis based on your specific requirements\n",
    "    \n",
    "    return misclassified_df\n",
    "\n",
    "# Call the function to analyze misclassifications\n",
    "misclassified_instances = analyze_misclassifications(labels, preds)"
   ]
  },
  {
   "cell_type": "code",
   "execution_count": 13,
   "metadata": {},
   "outputs": [
    {
     "name": "stdout",
     "output_type": "stream",
     "text": [
      "tensor([[0.1000, 0.2000, 2.4000],\n",
      "        [0.4000, 0.5000, 4.8000]])\n"
     ]
    }
   ],
   "source": [
    "import torch\n",
    "\n",
    "a = torch.tensor([[1, 2, 3], [4, 5, 6]])\n",
    "b = torch.tensor([[0.1, 0.1, 0.8], [0.1, 0.1, 0.8]])\n",
    "\n",
    "print(a * b)"
   ]
  },
  {
   "cell_type": "code",
   "execution_count": 14,
   "metadata": {},
   "outputs": [
    {
     "name": "stdout",
     "output_type": "stream",
     "text": [
      "tensor([[0.9000, 0.9000, 0.2000],\n",
      "        [0.9000, 0.9000, 0.2000]])\n"
     ]
    }
   ],
   "source": [
    "print(1 - b)"
   ]
  },
  {
   "cell_type": "code",
   "execution_count": 27,
   "metadata": {},
   "outputs": [],
   "source": [
    "import torch.nn as nn\n",
    "\n",
    "class ConcatAttention(nn.Module):\n",
    "    def __init__(self, input_dim, attention_dim):\n",
    "        super(ConcatAttention, self).__init__()\n",
    "        self.attention_layer = nn.Sequential(\n",
    "            nn.Linear(input_dim, attention_dim),\n",
    "            nn.Tanh(),\n",
    "            nn.Linear(attention_dim, input_dim),\n",
    "            nn.Softmax(dim=1)\n",
    "        )\n",
    "    \n",
    "    def forward(self, text_features, image_features):\n",
    "        concatenated_features = torch.cat((text_features, image_features), dim=1)\n",
    "        attention_weights = self.attention_layer(concatenated_features)\n",
    "        attended_features = attention_weights * concatenated_features\n",
    "        print(f\"Sizes: {concatenated_features.size()} | {attention_weights.size()} | {attended_features.size()} | {attended_features.sum(dim=1).size()} |\")\n",
    "        return attended_features.sum(dim=1)"
   ]
  },
  {
   "cell_type": "code",
   "execution_count": 28,
   "metadata": {},
   "outputs": [
    {
     "name": "stdout",
     "output_type": "stream",
     "text": [
      "torch.Size([10, 10]) torch.Size([10, 10])\n"
     ]
    }
   ],
   "source": [
    "m = ConcatAttention(20, 10)\n",
    "a = torch.rand(10, 10)\n",
    "b = torch.rand(10, 10)\n",
    "\n",
    "print(a.size(), b.size())"
   ]
  },
  {
   "cell_type": "code",
   "execution_count": 26,
   "metadata": {},
   "outputs": [
    {
     "name": "stdout",
     "output_type": "stream",
     "text": [
      "Sizes: torch.Size([10, 20]) | torch.Size([10, 20]) | torch.Size([10, 20]) | torch.Size([10]) |\n"
     ]
    },
    {
     "data": {
      "text/plain": [
       "tensor([0.9965, 1.1801, 1.5514, 2.0430, 1.3483, 1.6529, 1.3472, 1.8227, 2.1305,\n",
       "        1.7419], grad_fn=<SumBackward1>)"
      ]
     },
     "execution_count": 26,
     "metadata": {},
     "output_type": "execute_result"
    }
   ],
   "source": [
    "m(a, b)"
   ]
  },
  {
   "cell_type": "code",
   "execution_count": null,
   "metadata": {},
   "outputs": [],
   "source": []
  }
 ],
 "metadata": {
  "kernelspec": {
   "display_name": ".venv",
   "language": "python",
   "name": "python3"
  },
  "language_info": {
   "codemirror_mode": {
    "name": "ipython",
    "version": 3
   },
   "file_extension": ".py",
   "mimetype": "text/x-python",
   "name": "python",
   "nbconvert_exporter": "python",
   "pygments_lexer": "ipython3",
   "version": "3.11.3"
  }
 },
 "nbformat": 4,
 "nbformat_minor": 2
}
