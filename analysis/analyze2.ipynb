{
 "cells": [
  {
   "cell_type": "code",
   "execution_count": 1,
   "metadata": {},
   "outputs": [],
   "source": [
    "import json\n",
    "import pandas as pd \n",
    "from tqdm import tqdm"
   ]
  },
  {
   "cell_type": "code",
   "execution_count": 5,
   "metadata": {},
   "outputs": [
    {
     "name": "stderr",
     "output_type": "stream",
     "text": [
      "100%|██████████| 2143/2143 [00:00<00:00, 1962531.33it/s]\n",
      "100%|██████████| 312/312 [00:00<00:00, 1033667.34it/s]\n"
     ]
    }
   ],
   "source": [
    "def read_data(fpath, is_test=False):\n",
    "  if is_test:\n",
    "    data = {'id': [], 'text': [], 'image': []}\n",
    "    js_obj = json.load(open(fpath, encoding='utf-8'))\n",
    "    for obj in tqdm(js_obj):\n",
    "      data['id'].append(obj['id'])\n",
    "      data['image'].append(obj['img_path'])\n",
    "      data['text'].append(obj['text'])\n",
    "  else:\n",
    "    data = {'id': [], 'text': [], 'image': [], 'label': []}\n",
    "    js_obj = json.load(open(fpath, encoding='utf-8'))\n",
    "    for obj in tqdm(js_obj):\n",
    "      data['id'].append(obj['id'])\n",
    "      data['image'].append(obj['img_path'])\n",
    "      data['text'].append(obj['text'])\n",
    "      data['label'].append(obj['class_label'])\n",
    "  return pd.DataFrame.from_dict(data)\n",
    "\n",
    "train = read_data(\"../data/arabic_memes_propaganda_araieval_24_train.json\")\n",
    "labels = read_data(\"../data/arabic_memes_propaganda_araieval_24_dev.json\")\n",
    "preds = pd.read_csv(\"task2C_kevinmathew 2.tsv\", sep='\\t')"
   ]
  },
  {
   "cell_type": "code",
   "execution_count": 6,
   "metadata": {},
   "outputs": [
    {
     "data": {
      "text/plain": [
       "(label\n",
       " not_propaganda    224\n",
       " propaganda         88\n",
       " Name: count, dtype: int64,\n",
       " label\n",
       " not_propaganda    1540\n",
       " propaganda         603\n",
       " Name: count, dtype: int64)"
      ]
     },
     "execution_count": 6,
     "metadata": {},
     "output_type": "execute_result"
    }
   ],
   "source": [
    "labels.label.value_counts(), train.label.value_counts()"
   ]
  },
  {
   "cell_type": "code",
   "execution_count": null,
   "metadata": {},
   "outputs": [],
   "source": []
  }
 ],
 "metadata": {
  "kernelspec": {
   "display_name": ".venv",
   "language": "python",
   "name": "python3"
  },
  "language_info": {
   "codemirror_mode": {
    "name": "ipython",
    "version": 3
   },
   "file_extension": ".py",
   "mimetype": "text/x-python",
   "name": "python",
   "nbconvert_exporter": "python",
   "pygments_lexer": "ipython3",
   "version": "3.11.3"
  }
 },
 "nbformat": 4,
 "nbformat_minor": 2
}
